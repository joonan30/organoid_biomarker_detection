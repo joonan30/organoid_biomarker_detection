{
 "cells": [
  {
   "cell_type": "code",
   "execution_count": null,
   "metadata": {},
   "outputs": [],
   "source": [
    "############### run single-sample GSEA (ssGSEA) for cancer patient or organoid data ###############\n",
    "import gseapy\n",
    "import gseapy as gp\n",
    "import scipy.stats as stat\n",
    "import numpy as np\n",
    "import time, os\n",
    "import pandas as pd\n",
    "from collections import defaultdict\n",
    "cur_dir = os.getcwd()\n",
    "os.chdir('../utilities')\n",
    "exec(open(\"./pathway_utilities.py\").read(), globals() )\n",
    "exec(open(\"./parse_patient_clinical_data.py\").read(), globals() )\n",
    "exec(open(\"./parse_patient_expression.py\").read(), globals() )\n",
    "exec(open(\"./parse_preclinical_model_data.py\").read(), globals() )\n",
    "\n",
    "# execfile('pathway_utilities.py', globals())\n",
    "# execfile('parse_preclinical_data.py', globals())\n",
    "# execfile('parse_patient_expression.py', globals())\n",
    "gene2uniprot, uniprot2gene = geneID2uniprot(), uniprot2geneID()\n",
    "os.chdir(cur_dir)\n"
   ]
  },
  {
   "cell_type": "code",
   "execution_count": 62,
   "metadata": {},
   "outputs": [],
   "source": [
    "## INITIALIZE\n",
    "#======================\n",
    "# INITIALIZE PARAMETERS\n",
    "source = 'organoid' # 'organoid', 'TCGA'\n",
    "cancer_type = 'COAD'\n",
    "testing_pathway_list = ['REACTOME']"
   ]
  },
  {
   "cell_type": "code",
   "execution_count": 63,
   "metadata": {},
   "outputs": [
    {
     "name": "stdout",
     "output_type": "stream",
     "text": [
      "importing expression for organoid,  Thu Nov  5 20:47:01 2020\n"
     ]
    }
   ],
   "source": [
    "#==================\n",
    "# IMPORT EXPRESSION\n",
    "print ('importing expression for %s, ' %source, time.ctime())\n",
    "\n",
    "expDic = {} # { sample ID : { gene in uniprot : exp } }\n",
    "expDic_geneID = {} # { sample ID : { gene : exp } }\n",
    "geneList, sampleList = [], []"
   ]
  },
  {
   "cell_type": "code",
   "execution_count": 64,
   "metadata": {},
   "outputs": [],
   "source": [
    "if source.lower() == 'organoid':\n",
    "    expDic_geneID, expDic = parse_organoid_transcriptome(cancer_type)\n",
    "\n",
    "if source.upper() == 'TCGA':\n",
    "    expDic_geneID, expDic = parse_TCGA_log2_FPKM(cancer_type)"
   ]
  },
  {
   "cell_type": "code",
   "execution_count": 65,
   "metadata": {},
   "outputs": [],
   "source": [
    "sampleList = expDic.keys()\n",
    "# sampleList.sort()\n",
    "\n",
    "for sample in expDic_geneID:\n",
    "    if len(geneList) == 0:\n",
    "        geneList = expDic_geneID[sample].keys()\n",
    "    else:\n",
    "        geneList = list(set(geneList).intersection(expDic_geneID[sample].keys()))"
   ]
  },
  {
   "cell_type": "code",
   "execution_count": 66,
   "metadata": {},
   "outputs": [
    {
     "name": "stdout",
     "output_type": "stream",
     "text": [
      "importing pathways,  Thu Nov  5 20:47:03 2020\n"
     ]
    }
   ],
   "source": [
    "#========================================\n",
    "# IMPORT PATHWAYS FOR ENRICHMENT ANALYSIS\n",
    "print ('importing pathways, ', time.ctime())\n",
    "reactome = reactome_genes_uniprot() # { pathway : [ gene list ] }\n",
    "pathwayDic = {'reactome':reactome} # "
   ]
  },
  {
   "cell_type": "code",
   "execution_count": 69,
   "metadata": {},
   "outputs": [
    {
     "ename": "FileNotFoundError",
     "evalue": "[Errno 2] No such file or directory: 'results/COAD'",
     "output_type": "error",
     "traceback": [
      "\u001b[0;31m---------------------------------------------------------------------------\u001b[0m",
      "\u001b[0;31mFileNotFoundError\u001b[0m                         Traceback (most recent call last)",
      "\u001b[0;32m<ipython-input-69-6f528aedb05a>\u001b[0m in \u001b[0;36m<module>\u001b[0;34m\u001b[0m\n\u001b[1;32m      7\u001b[0m \u001b[0;32mfor\u001b[0m \u001b[0md\u001b[0m \u001b[0;32min\u001b[0m \u001b[0mdir_list\u001b[0m\u001b[0;34m:\u001b[0m\u001b[0;34m\u001b[0m\u001b[0;34m\u001b[0m\u001b[0m\n\u001b[1;32m      8\u001b[0m     \u001b[0;32mif\u001b[0m \u001b[0mos\u001b[0m\u001b[0;34m.\u001b[0m\u001b[0mpath\u001b[0m\u001b[0;34m.\u001b[0m\u001b[0misdir\u001b[0m\u001b[0;34m(\u001b[0m\u001b[0;34m'%s/%s'\u001b[0m \u001b[0;34m%\u001b[0m\u001b[0;34m(\u001b[0m\u001b[0mfo_directory\u001b[0m\u001b[0;34m,\u001b[0m \u001b[0md\u001b[0m\u001b[0;34m)\u001b[0m\u001b[0;34m)\u001b[0m \u001b[0;34m==\u001b[0m \u001b[0;32mFalse\u001b[0m\u001b[0;34m:\u001b[0m\u001b[0;34m\u001b[0m\u001b[0;34m\u001b[0m\u001b[0m\n\u001b[0;32m----> 9\u001b[0;31m         \u001b[0mos\u001b[0m\u001b[0;34m.\u001b[0m\u001b[0mmkdir\u001b[0m\u001b[0;34m(\u001b[0m\u001b[0;34m'%s/%s'\u001b[0m \u001b[0;34m%\u001b[0m\u001b[0;34m(\u001b[0m\u001b[0mfo_directory\u001b[0m\u001b[0;34m,\u001b[0m \u001b[0md\u001b[0m\u001b[0;34m)\u001b[0m\u001b[0;34m)\u001b[0m\u001b[0;34m\u001b[0m\u001b[0;34m\u001b[0m\u001b[0m\n\u001b[0m\u001b[1;32m     10\u001b[0m     \u001b[0mfo_directory\u001b[0m \u001b[0;34m=\u001b[0m \u001b[0;34m'%s/%s'\u001b[0m\u001b[0;34m%\u001b[0m\u001b[0;34m(\u001b[0m\u001b[0mfo_directory\u001b[0m\u001b[0;34m,\u001b[0m \u001b[0md\u001b[0m\u001b[0;34m)\u001b[0m\u001b[0;34m\u001b[0m\u001b[0;34m\u001b[0m\u001b[0m\n",
      "\u001b[0;31mFileNotFoundError\u001b[0m: [Errno 2] No such file or directory: 'results/COAD'"
     ]
    }
   ],
   "source": [
    "## PRINT ssGSEA RESULTS\n",
    "\n",
    "#===============\n",
    "# MAKE DIRECTORY\n",
    "fo_directory = 'results' \n",
    "dir_list = [cancer_type.upper(), source]\n",
    "for d in dir_list:\n",
    "    if os.path.isdir('%s/%s' %(fo_directory, d)) == False:\n",
    "        os.mkdir('%s/%s' %(fo_directory, d))\n",
    "    fo_directory = '%s/%s'%(fo_directory, d)"
   ]
  },
  {
   "cell_type": "code",
   "execution_count": 70,
   "metadata": {},
   "outputs": [
    {
     "name": "stdout",
     "output_type": "stream",
     "text": [
      "parse_COAD_organoid_data.py      parse_preclinical_model_data.py\n",
      "parse_Drugbank.py                parse_ssGSEA.py\n",
      "parse_patient_clinical_data.py   pathway_utilities.py\n",
      "parse_patient_expression.py\n"
     ]
    }
   ],
   "source": [
    "%ls"
   ]
  },
  {
   "cell_type": "code",
   "execution_count": 71,
   "metadata": {},
   "outputs": [
    {
     "data": {
      "text/plain": [
       "'/Users/joonan/Dropbox/pdiamond/organoid_biomarker_detection/utilities'"
      ]
     },
     "execution_count": 71,
     "metadata": {},
     "output_type": "execute_result"
    }
   ],
   "source": [
    "cur_dir"
   ]
  },
  {
   "cell_type": "code",
   "execution_count": null,
   "metadata": {},
   "outputs": [],
   "source": []
  }
 ],
 "metadata": {
  "kernelspec": {
   "display_name": "Python 3",
   "language": "python",
   "name": "python3"
  },
  "language_info": {
   "codemirror_mode": {
    "name": "ipython",
    "version": 3
   },
   "file_extension": ".py",
   "mimetype": "text/x-python",
   "name": "python",
   "nbconvert_exporter": "python",
   "pygments_lexer": "ipython3",
   "version": "3.7.3"
  }
 },
 "nbformat": 4,
 "nbformat_minor": 4
}
